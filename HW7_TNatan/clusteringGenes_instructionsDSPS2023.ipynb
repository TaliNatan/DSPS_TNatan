{
  "nbformat": 4,
  "nbformat_minor": 0,
  "metadata": {
    "colab": {
      "provenance": [],
      "include_colab_link": true
    },
    "kernelspec": {
      "name": "python3",
      "display_name": "Python 3"
    }
  },
  "cells": [
    {
      "cell_type": "markdown",
      "metadata": {
        "id": "view-in-github",
        "colab_type": "text"
      },
      "source": [
        "<a href=\"https://colab.research.google.com/github/TaliNatan/DSPS_TNatan/blob/main/HW7/clusteringGenes_instructionsDSPS2023.ipynb\" target=\"_parent\"><img src=\"https://colab.research.google.com/assets/colab-badge.svg\" alt=\"Open In Colab\"/></a>"
      ]
    },
    {
      "cell_type": "code",
      "source": [
        "!pip install umap-learn\n",
        "!pip install umap-learn[plot]"
      ],
      "metadata": {
        "id": "UGuX0usRhyWT",
        "colab": {
          "base_uri": "https://localhost:8080/"
        },
        "outputId": "e25de8ec-17ae-4967-aa1e-8b1aa7264ec2"
      },
      "execution_count": 1,
      "outputs": [
        {
          "output_type": "stream",
          "name": "stdout",
          "text": [
            "Collecting umap-learn\n",
            "  Downloading umap-learn-0.5.4.tar.gz (90 kB)\n",
            "\u001b[2K     \u001b[90m━━━━━━━━━━━━━━━━━━━━━━━━━━━━━━━━━━━━━━━━\u001b[0m \u001b[32m90.8/90.8 kB\u001b[0m \u001b[31m2.2 MB/s\u001b[0m eta \u001b[36m0:00:00\u001b[0m\n",
            "\u001b[?25h  Preparing metadata (setup.py) ... \u001b[?25l\u001b[?25hdone\n",
            "Requirement already satisfied: numpy>=1.17 in /usr/local/lib/python3.10/dist-packages (from umap-learn) (1.23.5)\n",
            "Requirement already satisfied: scipy>=1.3.1 in /usr/local/lib/python3.10/dist-packages (from umap-learn) (1.11.3)\n",
            "Requirement already satisfied: scikit-learn>=0.22 in /usr/local/lib/python3.10/dist-packages (from umap-learn) (1.2.2)\n",
            "Requirement already satisfied: numba>=0.51.2 in /usr/local/lib/python3.10/dist-packages (from umap-learn) (0.58.1)\n",
            "Collecting pynndescent>=0.5 (from umap-learn)\n",
            "  Downloading pynndescent-0.5.10.tar.gz (1.1 MB)\n",
            "\u001b[2K     \u001b[90m━━━━━━━━━━━━━━━━━━━━━━━━━━━━━━━━━━━━━━━━\u001b[0m \u001b[32m1.1/1.1 MB\u001b[0m \u001b[31m22.2 MB/s\u001b[0m eta \u001b[36m0:00:00\u001b[0m\n",
            "\u001b[?25h  Preparing metadata (setup.py) ... \u001b[?25l\u001b[?25hdone\n",
            "Requirement already satisfied: tqdm in /usr/local/lib/python3.10/dist-packages (from umap-learn) (4.66.1)\n",
            "Requirement already satisfied: tbb>=2019.0 in /usr/local/lib/python3.10/dist-packages (from umap-learn) (2021.10.0)\n",
            "Requirement already satisfied: llvmlite<0.42,>=0.41.0dev0 in /usr/local/lib/python3.10/dist-packages (from numba>=0.51.2->umap-learn) (0.41.1)\n",
            "Requirement already satisfied: joblib>=0.11 in /usr/local/lib/python3.10/dist-packages (from pynndescent>=0.5->umap-learn) (1.3.2)\n",
            "Requirement already satisfied: threadpoolctl>=2.0.0 in /usr/local/lib/python3.10/dist-packages (from scikit-learn>=0.22->umap-learn) (3.2.0)\n",
            "Building wheels for collected packages: umap-learn, pynndescent\n",
            "  Building wheel for umap-learn (setup.py) ... \u001b[?25l\u001b[?25hdone\n",
            "  Created wheel for umap-learn: filename=umap_learn-0.5.4-py3-none-any.whl size=86770 sha256=386604bba1b66d905ce67558e3a7ec2ef6da01167f62e8275fe7335e6c822475\n",
            "  Stored in directory: /root/.cache/pip/wheels/fb/66/29/199acf5784d0f7b8add6d466175ab45506c96e386ed5dd0633\n",
            "  Building wheel for pynndescent (setup.py) ... \u001b[?25l\u001b[?25hdone\n",
            "  Created wheel for pynndescent: filename=pynndescent-0.5.10-py3-none-any.whl size=55615 sha256=9e2d07e4ef92407298bc1b79532150eab84f3e9cab6355e18234e622d63e4c3a\n",
            "  Stored in directory: /root/.cache/pip/wheels/4a/38/5d/f60a40a66a9512b7e5e83517ebc2d1b42d857be97d135f1096\n",
            "Successfully built umap-learn pynndescent\n",
            "Installing collected packages: pynndescent, umap-learn\n",
            "Successfully installed pynndescent-0.5.10 umap-learn-0.5.4\n",
            "Requirement already satisfied: umap-learn[plot] in /usr/local/lib/python3.10/dist-packages (0.5.4)\n",
            "Requirement already satisfied: numpy>=1.17 in /usr/local/lib/python3.10/dist-packages (from umap-learn[plot]) (1.23.5)\n",
            "Requirement already satisfied: scipy>=1.3.1 in /usr/local/lib/python3.10/dist-packages (from umap-learn[plot]) (1.11.3)\n",
            "Requirement already satisfied: scikit-learn>=0.22 in /usr/local/lib/python3.10/dist-packages (from umap-learn[plot]) (1.2.2)\n",
            "Requirement already satisfied: numba>=0.51.2 in /usr/local/lib/python3.10/dist-packages (from umap-learn[plot]) (0.58.1)\n",
            "Requirement already satisfied: pynndescent>=0.5 in /usr/local/lib/python3.10/dist-packages (from umap-learn[plot]) (0.5.10)\n",
            "Requirement already satisfied: tqdm in /usr/local/lib/python3.10/dist-packages (from umap-learn[plot]) (4.66.1)\n",
            "Requirement already satisfied: tbb>=2019.0 in /usr/local/lib/python3.10/dist-packages (from umap-learn[plot]) (2021.10.0)\n",
            "Requirement already satisfied: pandas in /usr/local/lib/python3.10/dist-packages (from umap-learn[plot]) (1.5.3)\n",
            "Requirement already satisfied: matplotlib in /usr/local/lib/python3.10/dist-packages (from umap-learn[plot]) (3.7.1)\n",
            "Collecting datashader (from umap-learn[plot])\n",
            "  Downloading datashader-0.16.0-py2.py3-none-any.whl (18.3 MB)\n",
            "\u001b[2K     \u001b[90m━━━━━━━━━━━━━━━━━━━━━━━━━━━━━━━━━━━━━━━━\u001b[0m \u001b[32m18.3/18.3 MB\u001b[0m \u001b[31m63.7 MB/s\u001b[0m eta \u001b[36m0:00:00\u001b[0m\n",
            "\u001b[?25hRequirement already satisfied: bokeh in /usr/local/lib/python3.10/dist-packages (from umap-learn[plot]) (3.3.0)\n",
            "Requirement already satisfied: holoviews in /usr/local/lib/python3.10/dist-packages (from umap-learn[plot]) (1.17.1)\n",
            "Requirement already satisfied: colorcet in /usr/local/lib/python3.10/dist-packages (from umap-learn[plot]) (3.0.1)\n",
            "Requirement already satisfied: seaborn in /usr/local/lib/python3.10/dist-packages (from umap-learn[plot]) (0.12.2)\n",
            "Requirement already satisfied: scikit-image in /usr/local/lib/python3.10/dist-packages (from umap-learn[plot]) (0.19.3)\n",
            "Requirement already satisfied: llvmlite<0.42,>=0.41.0dev0 in /usr/local/lib/python3.10/dist-packages (from numba>=0.51.2->umap-learn[plot]) (0.41.1)\n",
            "Requirement already satisfied: joblib>=0.11 in /usr/local/lib/python3.10/dist-packages (from pynndescent>=0.5->umap-learn[plot]) (1.3.2)\n",
            "Requirement already satisfied: threadpoolctl>=2.0.0 in /usr/local/lib/python3.10/dist-packages (from scikit-learn>=0.22->umap-learn[plot]) (3.2.0)\n",
            "Requirement already satisfied: Jinja2>=2.9 in /usr/local/lib/python3.10/dist-packages (from bokeh->umap-learn[plot]) (3.1.2)\n",
            "Requirement already satisfied: contourpy>=1 in /usr/local/lib/python3.10/dist-packages (from bokeh->umap-learn[plot]) (1.2.0)\n",
            "Requirement already satisfied: packaging>=16.8 in /usr/local/lib/python3.10/dist-packages (from bokeh->umap-learn[plot]) (23.2)\n",
            "Requirement already satisfied: pillow>=7.1.0 in /usr/local/lib/python3.10/dist-packages (from bokeh->umap-learn[plot]) (9.4.0)\n",
            "Requirement already satisfied: PyYAML>=3.10 in /usr/local/lib/python3.10/dist-packages (from bokeh->umap-learn[plot]) (6.0.1)\n",
            "Requirement already satisfied: tornado>=5.1 in /usr/local/lib/python3.10/dist-packages (from bokeh->umap-learn[plot]) (6.3.2)\n",
            "Requirement already satisfied: xyzservices>=2021.09.1 in /usr/local/lib/python3.10/dist-packages (from bokeh->umap-learn[plot]) (2023.10.1)\n",
            "Requirement already satisfied: python-dateutil>=2.8.1 in /usr/local/lib/python3.10/dist-packages (from pandas->umap-learn[plot]) (2.8.2)\n",
            "Requirement already satisfied: pytz>=2020.1 in /usr/local/lib/python3.10/dist-packages (from pandas->umap-learn[plot]) (2023.3.post1)\n",
            "Requirement already satisfied: pyct>=0.4.4 in /usr/local/lib/python3.10/dist-packages (from colorcet->umap-learn[plot]) (0.5.0)\n",
            "Requirement already satisfied: dask in /usr/local/lib/python3.10/dist-packages (from datashader->umap-learn[plot]) (2023.8.1)\n",
            "Requirement already satisfied: multipledispatch in /usr/local/lib/python3.10/dist-packages (from datashader->umap-learn[plot]) (1.0.0)\n",
            "Requirement already satisfied: param in /usr/local/lib/python3.10/dist-packages (from datashader->umap-learn[plot]) (2.0.0)\n",
            "Requirement already satisfied: requests in /usr/local/lib/python3.10/dist-packages (from datashader->umap-learn[plot]) (2.31.0)\n",
            "Requirement already satisfied: toolz in /usr/local/lib/python3.10/dist-packages (from datashader->umap-learn[plot]) (0.12.0)\n",
            "Requirement already satisfied: xarray in /usr/local/lib/python3.10/dist-packages (from datashader->umap-learn[plot]) (2023.7.0)\n",
            "Requirement already satisfied: pyviz-comms>=0.7.4 in /usr/local/lib/python3.10/dist-packages (from holoviews->umap-learn[plot]) (3.0.0)\n",
            "Requirement already satisfied: panel>=0.13.1 in /usr/local/lib/python3.10/dist-packages (from holoviews->umap-learn[plot]) (1.3.1)\n",
            "Requirement already satisfied: cycler>=0.10 in /usr/local/lib/python3.10/dist-packages (from matplotlib->umap-learn[plot]) (0.12.1)\n",
            "Requirement already satisfied: fonttools>=4.22.0 in /usr/local/lib/python3.10/dist-packages (from matplotlib->umap-learn[plot]) (4.44.0)\n",
            "Requirement already satisfied: kiwisolver>=1.0.1 in /usr/local/lib/python3.10/dist-packages (from matplotlib->umap-learn[plot]) (1.4.5)\n",
            "Requirement already satisfied: pyparsing>=2.3.1 in /usr/local/lib/python3.10/dist-packages (from matplotlib->umap-learn[plot]) (3.1.1)\n",
            "Requirement already satisfied: networkx>=2.2 in /usr/local/lib/python3.10/dist-packages (from scikit-image->umap-learn[plot]) (3.2.1)\n",
            "Requirement already satisfied: imageio>=2.4.1 in /usr/local/lib/python3.10/dist-packages (from scikit-image->umap-learn[plot]) (2.31.6)\n",
            "Requirement already satisfied: tifffile>=2019.7.26 in /usr/local/lib/python3.10/dist-packages (from scikit-image->umap-learn[plot]) (2023.9.26)\n",
            "Requirement already satisfied: PyWavelets>=1.1.1 in /usr/local/lib/python3.10/dist-packages (from scikit-image->umap-learn[plot]) (1.4.1)\n",
            "Requirement already satisfied: MarkupSafe>=2.0 in /usr/local/lib/python3.10/dist-packages (from Jinja2>=2.9->bokeh->umap-learn[plot]) (2.1.3)\n",
            "Requirement already satisfied: markdown in /usr/local/lib/python3.10/dist-packages (from panel>=0.13.1->holoviews->umap-learn[plot]) (3.5.1)\n",
            "Requirement already satisfied: markdown-it-py in /usr/local/lib/python3.10/dist-packages (from panel>=0.13.1->holoviews->umap-learn[plot]) (3.0.0)\n",
            "Requirement already satisfied: linkify-it-py in /usr/local/lib/python3.10/dist-packages (from panel>=0.13.1->holoviews->umap-learn[plot]) (2.0.2)\n",
            "Requirement already satisfied: mdit-py-plugins in /usr/local/lib/python3.10/dist-packages (from panel>=0.13.1->holoviews->umap-learn[plot]) (0.4.0)\n",
            "Requirement already satisfied: bleach in /usr/local/lib/python3.10/dist-packages (from panel>=0.13.1->holoviews->umap-learn[plot]) (6.1.0)\n",
            "Requirement already satisfied: typing-extensions in /usr/local/lib/python3.10/dist-packages (from panel>=0.13.1->holoviews->umap-learn[plot]) (4.5.0)\n",
            "Requirement already satisfied: six>=1.5 in /usr/local/lib/python3.10/dist-packages (from python-dateutil>=2.8.1->pandas->umap-learn[plot]) (1.16.0)\n",
            "Requirement already satisfied: click>=8.0 in /usr/local/lib/python3.10/dist-packages (from dask->datashader->umap-learn[plot]) (8.1.7)\n",
            "Requirement already satisfied: cloudpickle>=1.5.0 in /usr/local/lib/python3.10/dist-packages (from dask->datashader->umap-learn[plot]) (2.2.1)\n",
            "Requirement already satisfied: fsspec>=2021.09.0 in /usr/local/lib/python3.10/dist-packages (from dask->datashader->umap-learn[plot]) (2023.6.0)\n",
            "Requirement already satisfied: partd>=1.2.0 in /usr/local/lib/python3.10/dist-packages (from dask->datashader->umap-learn[plot]) (1.4.1)\n",
            "Requirement already satisfied: importlib-metadata>=4.13.0 in /usr/local/lib/python3.10/dist-packages (from dask->datashader->umap-learn[plot]) (6.8.0)\n",
            "Requirement already satisfied: charset-normalizer<4,>=2 in /usr/local/lib/python3.10/dist-packages (from requests->datashader->umap-learn[plot]) (3.3.2)\n",
            "Requirement already satisfied: idna<4,>=2.5 in /usr/local/lib/python3.10/dist-packages (from requests->datashader->umap-learn[plot]) (3.4)\n",
            "Requirement already satisfied: urllib3<3,>=1.21.1 in /usr/local/lib/python3.10/dist-packages (from requests->datashader->umap-learn[plot]) (2.0.7)\n",
            "Requirement already satisfied: certifi>=2017.4.17 in /usr/local/lib/python3.10/dist-packages (from requests->datashader->umap-learn[plot]) (2023.7.22)\n",
            "Requirement already satisfied: zipp>=0.5 in /usr/local/lib/python3.10/dist-packages (from importlib-metadata>=4.13.0->dask->datashader->umap-learn[plot]) (3.17.0)\n",
            "Requirement already satisfied: locket in /usr/local/lib/python3.10/dist-packages (from partd>=1.2.0->dask->datashader->umap-learn[plot]) (1.0.0)\n",
            "Requirement already satisfied: webencodings in /usr/local/lib/python3.10/dist-packages (from bleach->panel>=0.13.1->holoviews->umap-learn[plot]) (0.5.1)\n",
            "Requirement already satisfied: uc-micro-py in /usr/local/lib/python3.10/dist-packages (from linkify-it-py->panel>=0.13.1->holoviews->umap-learn[plot]) (1.0.2)\n",
            "Requirement already satisfied: mdurl~=0.1 in /usr/local/lib/python3.10/dist-packages (from markdown-it-py->panel>=0.13.1->holoviews->umap-learn[plot]) (0.1.2)\n",
            "Installing collected packages: datashader\n",
            "Successfully installed datashader-0.16.0\n"
          ]
        }
      ]
    },
    {
      "cell_type": "code",
      "metadata": {
        "id": "VZJtP61lvYgB",
        "colab": {
          "base_uri": "https://localhost:8080/"
        },
        "outputId": "c70b81bc-5989-474a-8df9-2fe9debb83d7",
        "collapsed": true
      },
      "source": [
        "import numpy as np\n",
        "import pandas as pd\n",
        "import pylab as plt\n",
        "import scipy as sp\n",
        "import sklearn as skl\n",
        "from sklearn import cluster\n",
        "import umap\n",
        "import umap.plot\n",
        "from scipy.cluster.hierarchy import dendrogram, linkage\n",
        "\n",
        "%pylab inline"
      ],
      "execution_count": 2,
      "outputs": [
        {
          "output_type": "stream",
          "name": "stdout",
          "text": [
            "Populating the interactive namespace from numpy and matplotlib\n"
          ]
        },
        {
          "output_type": "stream",
          "name": "stderr",
          "text": [
            "/usr/local/lib/python3.10/dist-packages/umap/plot.py:203: NumbaDeprecationWarning: The keyword argument 'nopython=False' was supplied. From Numba 0.59.0 the default is being changed to True and use of 'nopython=False' will raise a warning as the argument will have no effect. See https://numba.readthedocs.io/en/stable/reference/deprecation.html#deprecation-of-object-mode-fall-back-behaviour-when-using-jit for details.\n",
            "  @numba.jit(nopython=False)\n",
            "/usr/local/lib/python3.10/dist-packages/IPython/core/magics/pylab.py:159: UserWarning: pylab import has clobbered these variables: ['plt']\n",
            "`%matplotlib` prevents importing * from pylab and numpy\n",
            "  warn(\"pylab import has clobbered these variables: %s\"  % clobbered +\n"
          ]
        }
      ]
    },
    {
      "cell_type": "markdown",
      "source": [
        "# I  read the data\n",
        "in https://github.com/fedhere/DSPS_FBianco/tree/master/HW7\n",
        "its called kidpackgene.csv"
      ],
      "metadata": {
        "id": "gnQL7taqh8U1"
      }
    },
    {
      "cell_type": "code",
      "metadata": {
        "id": "JI2KBXS0wJUX"
      },
      "source": [
        "genes = pd.read_csv("
      ],
      "execution_count": null,
      "outputs": []
    },
    {
      "cell_type": "markdown",
      "source": [
        "make sure you are not reading the index as a feature! you can control this with the index_col paramter of the function pd.read_csv or remove the column after you read the data in\n"
      ],
      "metadata": {
        "id": "wT47HMX_6vY3"
      }
    },
    {
      "cell_type": "markdown",
      "source": [
        "make sure you show the data and look at it carefully"
      ],
      "metadata": {
        "id": "IkkAzO1vjLBf"
      }
    },
    {
      "cell_type": "code",
      "metadata": {
        "id": "4mUXbPFs65LH",
        "colab": {
          "base_uri": "https://localhost:8080/"
        },
        "outputId": "a0575a62-f3de-4af5-ce10-9ff9b36b4a4a"
      },
      "source": [
        "genes.shape"
      ],
      "execution_count": null,
      "outputs": [
        {
          "output_type": "execute_result",
          "data": {
            "text/plain": [
              "(2603, 75)"
            ]
          },
          "metadata": {},
          "execution_count": 6
        }
      ]
    },
    {
      "cell_type": "markdown",
      "metadata": {
        "id": "pkE4re17H6cx"
      },
      "source": [
        "# II  Explore and preprocess the data  explore the data.\n"
      ]
    },
    {
      "cell_type": "markdown",
      "source": [
        "## II a\n",
        "missing values? (remember you can use the missingno package and visualize the missing values!). What should you do with them?"
      ],
      "metadata": {
        "id": "_p6IF6t8pEcE"
      }
    },
    {
      "cell_type": "code",
      "source": [
        "..."
      ],
      "metadata": {
        "id": "zyNwpYOepJmS"
      },
      "execution_count": null,
      "outputs": []
    },
    {
      "cell_type": "markdown",
      "metadata": {
        "id": "vlcivICbIDug"
      },
      "source": [
        "## II b\n",
        "whiten it, normalize it, scale it. What is appropriate? discuss your choices"
      ]
    },
    {
      "cell_type": "code",
      "metadata": {
        "id": "UYauFQS0IUli"
      },
      "source": [
        "#delete\n",
        "scaledgenes = ..."
      ],
      "execution_count": null,
      "outputs": []
    },
    {
      "cell_type": "code",
      "metadata": {
        "id": "lUuS2Pf_7fC-"
      },
      "source": [
        "\n",
        "scaledgenes.mean(0).round(2), scaledgenes.std(0)"
      ],
      "execution_count": null,
      "outputs": []
    },
    {
      "cell_type": "markdown",
      "metadata": {
        "id": "ZW8bRqIKIJhq"
      },
      "source": [
        "# III Visualize the data\n"
      ]
    },
    {
      "cell_type": "markdown",
      "source": [
        "## III-a calculate and plot a t-SNE rojection of the data on an optimal 2D plane"
      ],
      "metadata": {
        "id": "u5-5LLcIpSMI"
      }
    },
    {
      "cell_type": "code",
      "source": [
        "skl.manifold.TSNE?\n"
      ],
      "metadata": {
        "id": "dJOAJOkwaG3K"
      },
      "execution_count": null,
      "outputs": []
    },
    {
      "cell_type": "markdown",
      "source": [
        "The hyperparameteres perplexity and possibly early_exaggeration may significantly impact the result. Find values that give you some structure in the data. Make sure you read the docstring and info on tSNE!"
      ],
      "metadata": {
        "id": "XfoLUefSjz2U"
      }
    },
    {
      "cell_type": "code",
      "metadata": {
        "id": "L--jvOuu77I-"
      },
      "source": [
        "#delete\n",
        "twodproj = skl.manifold.TSNE(...\n"
      ],
      "execution_count": null,
      "outputs": []
    },
    {
      "cell_type": "code",
      "metadata": {
        "id": "0m_MHk2D8IKi",
        "colab": {
          "base_uri": "https://localhost:8080/"
        },
        "outputId": "2ac6d717-ac96-40db-be70-5af633d05d19"
      },
      "source": [
        "twodproj.shape"
      ],
      "execution_count": null,
      "outputs": [
        {
          "output_type": "execute_result",
          "data": {
            "text/plain": [
              "(2602, 2)"
            ]
          },
          "metadata": {},
          "execution_count": 12
        }
      ]
    },
    {
      "cell_type": "markdown",
      "metadata": {
        "id": "4XI_oOjeIc6i"
      },
      "source": [
        "plot the TSNE 2D projection\n"
      ]
    },
    {
      "cell_type": "code",
      "metadata": {
        "id": "jW8q0dRo9CHU"
      },
      "source": [
        "plt.plot(..."
      ],
      "execution_count": null,
      "outputs": []
    },
    {
      "cell_type": "markdown",
      "source": [
        "## III-b calculate and plot the UMAP 2D projection"
      ],
      "metadata": {
        "id": "5gKcaVfAkW1A"
      }
    },
    {
      "cell_type": "code",
      "source": [
        "mapper = umap.UMAP(...\n",
        "ax = plt.subplot()\n",
        "umap.plot.points(..."
      ],
      "metadata": {
        "id": "ua9kgt7GbuVb"
      },
      "execution_count": null,
      "outputs": []
    },
    {
      "cell_type": "markdown",
      "source": [
        "# IV K-MEANS Clustering"
      ],
      "metadata": {
        "id": "iW8ejjKSko4i"
      }
    },
    {
      "cell_type": "markdown",
      "metadata": {
        "id": "gbL-sqSwIi1K"
      },
      "source": [
        "## IV-a find the best number of culsters for this dataset\n",
        "\n",
        "create a function that measures the intracluster variance\n",
        "\n",
        "the intracluster variance is the sum of the variance of each cluster\n",
        "$V =\\sum_J \\sum_i{(X_{i\\in j} - \\bar{X_j})^2}$ for $i$ points in $j$ clusters"
      ]
    },
    {
      "cell_type": "code",
      "metadata": {
        "id": "ITKqLVelAxDT"
      },
      "source": [
        "#delete\n",
        "def calICVar(X, labels):\n",
        "    \"\"\"calculates the intracluster variance of the k-MEANS algorithm\n",
        "    X: the input data (ndarray)\n",
        "    labels: the labels indicating the cluster of each datapoint: same number of data as X\n",
        "    \"\"\"\n",
        "    ...\n",
        "    return icvar\n"
      ],
      "execution_count": null,
      "outputs": []
    },
    {
      "cell_type": "markdown",
      "metadata": {
        "id": "dNtMb3JcItsv"
      },
      "source": [
        "cluster the data with K-Means using 1 to 10 clusters. Calculate the intracluster variance and look for an \"elbow\" in the value of the intracluster variance as a function of number of clusters/ What is the optimal number of clusters?"
      ]
    },
    {
      "cell_type": "code",
      "metadata": {
        "id": "C4GCdv3Z-LW_"
      },
      "source": [
        "vars = [] #list of intracluster variance values for KMeans being run with 1->10 clusters\n",
        "..."
      ],
      "execution_count": null,
      "outputs": []
    },
    {
      "cell_type": "code",
      "metadata": {
        "id": "3r60E4ETCD11"
      },
      "source": [
        "# elbow plot\n",
        "plt.plot("
      ],
      "execution_count": null,
      "outputs": []
    },
    {
      "cell_type": "markdown",
      "metadata": {
        "id": "xC97yL8bJE2U"
      },
      "source": [
        "Based on the elbow plot above (see also slides) what is the right number of clusters for this dataset? DISCUSS!"
      ]
    },
    {
      "cell_type": "markdown",
      "source": [
        "## IV-b Cluster the data with k-Means into the number of clusters as determined from the elbow"
      ],
      "metadata": {
        "id": "DEQq9BzrmS7I"
      }
    },
    {
      "cell_type": "code",
      "metadata": {
        "id": "_A-R9c0XCOTH"
      },
      "source": [
        "geneclustersKM = ...\n"
      ],
      "execution_count": null,
      "outputs": []
    },
    {
      "cell_type": "markdown",
      "source": [
        "## IV-c plot and plot the t-SNY and UMAP projections of the data using the cluster number as color"
      ],
      "metadata": {
        "id": "LoplrYaFoQeA"
      }
    },
    {
      "cell_type": "code",
      "source": [
        "ax = ..."
      ],
      "metadata": {
        "id": "4-VV3pEYoTRi"
      },
      "execution_count": null,
      "outputs": []
    },
    {
      "cell_type": "code",
      "source": [
        "umap.plot.points(..."
      ],
      "metadata": {
        "id": "mLJ6GI6ce7Qj"
      },
      "execution_count": null,
      "outputs": []
    },
    {
      "cell_type": "markdown",
      "metadata": {
        "id": "a-eHKQ87JZOr"
      },
      "source": [
        "# Use dDSCAN or hierarchical clustering (461 pick either DBSCAN or hierarchical) and redo the clustering. Can you find the same number of clusters?"
      ]
    },
    {
      "cell_type": "markdown",
      "metadata": {
        "id": "5_6yn7nkJflN"
      },
      "source": [
        "# V DBSCAN Clustering\n"
      ]
    },
    {
      "cell_type": "markdown",
      "source": [
        "## V-a measure the distribution of Euclidean distances\n",
        "\n",
        "It is important to choose the hyperparamters of DBSCAN wisely. Initialize the _eps_ parameter of DBSCAN based on the mean Euclidean distance. To that end, calculate and plot the Euclidean distance matrix of each point pairs if you have not yet"
      ],
      "metadata": {
        "id": "9i9tQCdoqO0-"
      }
    },
    {
      "cell_type": "code",
      "metadata": {
        "id": "WIyzqXA8-6GC"
      },
      "source": [
        "dists = sp.spatial.distance.pdist(..."
      ],
      "execution_count": null,
      "outputs": []
    },
    {
      "cell_type": "code",
      "metadata": {
        "id": "gcGmhzOa_HbT"
      },
      "source": [
        "plt.imshow(...\n"
      ],
      "execution_count": null,
      "outputs": []
    },
    {
      "cell_type": "markdown",
      "metadata": {
        "id": "5Ku9uw2bJxs9"
      },
      "source": [
        " make a histogram of the pairwise distances. You should choose a value to initialize dbscan that is below the mean"
      ]
    },
    {
      "cell_type": "code",
      "metadata": {
        "id": "fBaG66V9AQQR"
      },
      "source": [
        "plt..."
      ],
      "execution_count": null,
      "outputs": []
    },
    {
      "cell_type": "markdown",
      "metadata": {
        "id": "jFl0v2CoKDBq"
      },
      "source": [
        "## V-b Rub DBSCAN\n",
        "\n",
        "initialize the dbscan _eps_ hyperparameter value appropriately and fit a dbscan model to the data plot the 2D TSNE projection colorcoded as before. How many clusters do you have, how many outliers? is that a significant number?"
      ]
    },
    {
      "cell_type": "code",
      "metadata": {
        "id": "rq4I_RZ9_x7m"
      },
      "source": [
        "geneclustersDBS = skl.cluster.DBSCAN(...\n",
        "\n",
        "np.unique(geneclustersDBS.labels_)"
      ],
      "execution_count": null,
      "outputs": []
    },
    {
      "cell_type": "markdown",
      "source": [
        "## V-c plot the data in the t-SNE and UMAP projections color-coded by DBSCAN cluster"
      ],
      "metadata": {
        "id": "M-buEp0LqkYx"
      }
    },
    {
      "cell_type": "code",
      "metadata": {
        "id": "8Af04O4LACaE"
      },
      "source": [
        "plt.scatter(..."
      ],
      "execution_count": null,
      "outputs": []
    },
    {
      "cell_type": "code",
      "source": [
        "umap.plot.points(..."
      ],
      "metadata": {
        "id": "cplzpQkrfWDq"
      },
      "execution_count": null,
      "outputs": []
    },
    {
      "cell_type": "markdown",
      "metadata": {
        "id": "8NaGfMrmKupd"
      },
      "source": [
        "# VI Agglomerative clustering\n"
      ]
    },
    {
      "cell_type": "markdown",
      "source": [
        "## VI-a run agglomerative clustering with standard distance choices: ward linkage and Euclidean distance"
      ],
      "metadata": {
        "id": "bdqZGFtKrCn2"
      }
    },
    {
      "cell_type": "code",
      "metadata": {
        "id": "wHcKbo1QCktQ"
      },
      "source": [
        "clusteringAg = skl.cluster.AgglomerativeClustering(..."
      ],
      "execution_count": null,
      "outputs": []
    },
    {
      "cell_type": "markdown",
      "metadata": {
        "id": "6wveDa6ELOBY"
      },
      "source": [
        "choose ward linkage and plot the dendrogram of the clusters"
      ]
    },
    {
      "cell_type": "code",
      "metadata": {
        "id": "Pr30oop4E2jN"
      },
      "source": [
        "Z = linkage(scaledgenes, 'ward')\n",
        "fig = plt.figure(figsize=(25, 10))\n",
        "dn = dendrogram(Z)"
      ],
      "execution_count": null,
      "outputs": []
    },
    {
      "cell_type": "markdown",
      "metadata": {
        "id": "uqkWdEnTMSes"
      },
      "source": [
        "repeat with a different linkage and comment on differences"
      ]
    },
    {
      "cell_type": "code",
      "metadata": {
        "id": "fxOo4LT1F6q0"
      },
      "source": [
        "Z = ..."
      ],
      "execution_count": null,
      "outputs": []
    },
    {
      "cell_type": "markdown",
      "metadata": {
        "id": "lNsd1HxkML35"
      },
      "source": [
        "# VI-b rerun agglomerative cluatering to get the \"ideal\" number of clusters as decided by k-means.\n",
        "\n"
      ]
    },
    {
      "cell_type": "code",
      "metadata": {
        "id": "ZQS1eaF0MNHn"
      },
      "source": [
        "geneclustersAg = skl.cluster.AgglomerativeClustering(n_clusters=..."
      ],
      "execution_count": null,
      "outputs": []
    },
    {
      "cell_type": "code",
      "metadata": {
        "id": "1unHLA-HN_vO"
      },
      "source": [
        "geneclustersAg.labels_"
      ],
      "execution_count": null,
      "outputs": []
    },
    {
      "cell_type": "markdown",
      "source": [
        "## VI-c plot the 2D TSNE projection colorcoded as before"
      ],
      "metadata": {
        "id": "nw64WNi3rSAc"
      }
    },
    {
      "cell_type": "code",
      "metadata": {
        "id": "rgouq9MHOBjl"
      },
      "source": [
        "plt.scatter(..."
      ],
      "execution_count": null,
      "outputs": []
    },
    {
      "cell_type": "markdown",
      "source": [
        "# VII Comment, in the spirit of https://www.ncbi.nlm.nih.gov/pmc/articles/PMC187526, which was the most \"useful\" method for clustering"
      ],
      "metadata": {
        "id": "RttbRU7uOSCr"
      }
    }
  ]
}