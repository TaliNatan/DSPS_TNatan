{
 "cells": [
  {
   "cell_type": "markdown",
   "metadata": {},
   "source": [
    "<a href=\"https://colab.research.google.com/github/TaliNatan/DSPS_TNatan/blob/main/HW2_TNatan/CentralLimitTheorem.ipynb\" target=\"_parent\"><img src=\"https://colab.research.google.com/assets/colab-badge.svg\" alt=\"Open In Colab\"/></a>"
   ]
  },
  {
   "cell_type": "code",
   "execution_count": null,
   "metadata": {},
   "outputs": [],
   "source": [
    "import numpy as np\n",
    "from scipy.stats import norm\n",
    "import matplotlib.pyplot as plt\n",
    "np.random.seed(456) # setting the seed so when I run the notebook from start to finish, I get the same plots every time"
   ]
  },
  {
   "cell_type": "code",
   "execution_count": null,
   "metadata": {},
   "outputs": [],
   "source": [
    "mysize = (np.logspace(1, 4.3, 100, base=10)).astype(int) # from Dr. Bianco"
   ]
  },
  {
   "cell_type": "markdown",
   "metadata": {},
   "source": [
    "# Chi-Squared Distribution"
   ]
  },
  {
   "cell_type": "code",
   "execution_count": null,
   "metadata": {},
   "outputs": [],
   "source": [
    "all_mean_chi_dist = np.zeros(len(mysize))\n",
    "all_STD_chi_dist = np.zeros(len(mysize))\n",
    "\n",
    "\n",
    "for i in range(len(mysize)):\n",
    "    chi_dist = np.random.chisquare(100, size=mysize[i])\n",
    "    all_mean_chi_dist[i] = np.mean(chi_dist)\n",
    "    all_STD_chi_dist[i] = np.std(chi_dist)"
   ]
  },
  {
   "cell_type": "code",
   "execution_count": null,
   "metadata": {},
   "outputs": [],
   "source": [
    "plt.scatter(mysize, all_mean_chi_dist, c = 'k', s = 7, zorder = 10)\n",
    "plt.axhline(y = 100, color = 'r', linestyle = '--', label = r'$\\mu_{exp}$')\n",
    "plt.xlabel('Sample Size')\n",
    "plt.ylabel('Sample Mean')\n",
    "plt.title('Chi-Squared Distribution')\n",
    "plt.xlim(-500, 20000)\n",
    "plt.legend(loc = 'upper right')\n",
    "plt.show()"
   ]
  },
  {
   "cell_type": "markdown",
   "metadata": {},
   "source": [
    "## Figure 1.\n",
    "The above plot shows the sample mean with respect to the sample size for a chi-squared distribution. As the sample size increases, the sample mean converges to the expected mean (100). This makes sense in terms of the Central Limit Theorem; as our sample increases, the mean of the sample should converge to some 'true' mean of the population."
   ]
  },
  {
   "cell_type": "code",
   "execution_count": null,
   "metadata": {},
   "outputs": [],
   "source": [
    "mu_chi, std_chi = norm.fit(all_mean_chi_dist) \n",
    "\n",
    "x_chi = np.linspace(90, 110, 1000)\n",
    "p_chi = norm.pdf(x_chi, mu_chi, std_chi)"
   ]
  },
  {
   "cell_type": "code",
   "execution_count": null,
   "metadata": {},
   "outputs": [],
   "source": [
    "plt.hist(all_mean_chi_dist, bins = 30, color = 'orange', density=True)\n",
    "plt.plot(x_chi, p_chi, 'b', linewidth=2, linestyle = ':', zorder = 10, label = 'Gaussian Fit')\n",
    "plt.xlabel('Sample Mean')\n",
    "plt.ylabel('Counts')\n",
    "plt.title('Chi-Squared Distribution')\n",
    "plt.legend(loc = 'upper right')\n",
    "plt.xlim(92,108)\n",
    "plt.show()"
   ]
  },
  {
   "cell_type": "markdown",
   "metadata": {},
   "source": [
    "## Figure 2.\n",
    "The above plot shows the histogram of the sample mean for a chi-squared distribution in 30 bins. A gaussian fit has been applied to the data and is shown as a blue dotted line. This is a bad fit for the data as there is not enough strength at the mean."
   ]
  },
  {
   "cell_type": "markdown",
   "metadata": {},
   "source": [
    "# Normal Distribution"
   ]
  },
  {
   "cell_type": "code",
   "execution_count": null,
   "metadata": {},
   "outputs": [],
   "source": [
    "all_mean_normal_dist = np.zeros(len(mysize))\n",
    "all_STD_normal_dist = np.zeros(len(mysize))\n",
    "\n",
    "\n",
    "for i in range(len(mysize)):\n",
    "    normal_dist = np.random.normal(100.00, 1.0, size=mysize[i])\n",
    "    all_mean_normal_dist[i] = np.mean(normal_dist)\n",
    "    all_STD_normal_dist[i] = np.std(normal_dist)"
   ]
  },
  {
   "cell_type": "code",
   "execution_count": null,
   "metadata": {},
   "outputs": [],
   "source": [
    "plt.scatter(mysize, all_mean_normal_dist, c = 'k', s = 7, zorder = 10)\n",
    "plt.axhline(y = 100, color = 'r', linestyle = '--', label = r'$\\mu_{exp}$')\n",
    "plt.xlabel('Sample Size')\n",
    "plt.ylabel('Sample Mean')\n",
    "plt.title('Normal Distribution')\n",
    "plt.xlim(-500, 20000)\n",
    "plt.legend(loc = 'upper right')\n",
    "plt.show()"
   ]
  },
  {
   "cell_type": "markdown",
   "metadata": {},
   "source": [
    "## Figure 3.\n",
    "The above plot shows the sample mean with respect to the sample size for a normal distribution. As the sample size increases, the sample mean converges to the expected mean (100). This makes sense in terms of the Central Limit Theorem; as our sample increases, the mean of the sample should converge to some 'true' mean of the population."
   ]
  },
  {
   "cell_type": "code",
   "execution_count": null,
   "metadata": {},
   "outputs": [],
   "source": [
    "mu_normal, std_normal = norm.fit(all_mean_normal_dist) \n",
    "\n",
    "x_normal = np.linspace(90, 110, 1000)\n",
    "p_normal = norm.pdf(x_normal, mu_normal, std_normal)"
   ]
  },
  {
   "cell_type": "code",
   "execution_count": null,
   "metadata": {},
   "outputs": [],
   "source": [
    "plt.hist(all_mean_normal_dist, bins = 30, color = 'orange', density=True)\n",
    "plt.plot(x_normal, p_normal, 'b', linewidth=2, linestyle = ':', zorder = 10, label = 'Gaussian Fit')\n",
    "plt.xlabel('Sample Mean')\n",
    "plt.ylabel('Counts')\n",
    "plt.title('Normal Distribution')\n",
    "plt.legend(loc = 'upper right')\n",
    "plt.xlim(99.5,100.5)\n",
    "plt.show()"
   ]
  },
  {
   "cell_type": "markdown",
   "metadata": {},
   "source": [
    "## Figure 4.\n",
    "The above plot shows the histogram of the sample mean for a normal distribution in 30 bins. A gaussian fit has been applied to the data and is shown as a blue dotted line. This is a bad fit for the data as there is not enough strength at the mean."
   ]
  },
  {
   "cell_type": "markdown",
   "metadata": {},
   "source": [
    "# Poisson Distribution"
   ]
  },
  {
   "cell_type": "code",
   "execution_count": null,
   "metadata": {},
   "outputs": [],
   "source": [
    "all_mean_poisson_dist = np.zeros(len(mysize))\n",
    "all_STD_poisson_dist = np.zeros(len(mysize))\n",
    "\n",
    "\n",
    "for i in range(len(mysize)):\n",
    "    poisson_dist = np.random.poisson(100, size=mysize[i])\n",
    "    all_mean_poisson_dist[i] = np.mean(poisson_dist)\n",
    "    all_STD_poisson_dist[i] = np.std(poisson_dist)"
   ]
  },
  {
   "cell_type": "code",
   "execution_count": null,
   "metadata": {},
   "outputs": [],
   "source": [
    "plt.scatter(mysize, all_mean_poisson_dist, c = 'k', s = 7, zorder = 10)\n",
    "plt.axhline(y = 100, color = 'r', linestyle = '--', label = r'$\\mu_{exp}$')\n",
    "plt.xlabel('Sample Size')\n",
    "plt.ylabel('Sample Mean')\n",
    "plt.title('Poisson Distribution')\n",
    "plt.xlim(-500, 20000)\n",
    "plt.legend(loc = 'upper right')\n",
    "plt.show()"
   ]
  },
  {
   "cell_type": "markdown",
   "metadata": {},
   "source": [
    "## Figure 5.\n",
    "The above plot shows the sample mean with respect to the sample size for a poisson distribution. As the sample size increases, the sample mean converges to the expected mean (100). This makes sense in terms of the Central Limit Theorem; as our sample increases, the mean of the sample should converge to some 'true' mean of the population."
   ]
  },
  {
   "cell_type": "code",
   "execution_count": null,
   "metadata": {},
   "outputs": [],
   "source": [
    "mu_poisson, std_poisson = norm.fit(all_mean_poisson_dist) \n",
    "\n",
    "x_poisson = np.linspace(90, 110, 1000)\n",
    "p_poisson = norm.pdf(x_poisson, mu_poisson, std_poisson)"
   ]
  },
  {
   "cell_type": "code",
   "execution_count": null,
   "metadata": {},
   "outputs": [],
   "source": [
    "plt.hist(all_mean_poisson_dist, bins = 30, color = 'orange', density=True)\n",
    "plt.plot(x_poisson, p_poisson, 'b', linewidth=2, linestyle = ':', zorder = 10, label = 'Gaussian Fit')\n",
    "plt.xlabel('Sample Mean')\n",
    "plt.ylabel('Counts')\n",
    "plt.title('Poisson Distribution')\n",
    "plt.legend(loc = 'upper right')\n",
    "plt.xlim(95,105)\n",
    "plt.show()"
   ]
  },
  {
   "cell_type": "markdown",
   "metadata": {},
   "source": [
    "## Figure 6.\n",
    "The above plot shows the histogram of the sample mean for a poisson distribution in 30 bins. A gaussian fit has been applied to the data and is shown as a blue dotted line. This is a bad fit for the data as there is not enough strength at the mean."
   ]
  },
  {
   "cell_type": "markdown",
   "metadata": {},
   "source": [
    "# Binomial Distribution"
   ]
  },
  {
   "cell_type": "code",
   "execution_count": null,
   "metadata": {},
   "outputs": [],
   "source": [
    "all_mean_binomial_dist = np.zeros(len(mysize))\n",
    "all_STD_binomial_dist = np.zeros(len(mysize))\n",
    "\n",
    "\n",
    "for i in range(len(mysize)):\n",
    "    binomial_dist = np.random.binomial(200, 0.5, size=mysize[i])\n",
    "    all_mean_binomial_dist[i] = np.mean(binomial_dist)\n",
    "    all_STD_binomial_dist[i] = np.std(binomial_dist)"
   ]
  },
  {
   "cell_type": "code",
   "execution_count": null,
   "metadata": {},
   "outputs": [],
   "source": [
    "plt.scatter(mysize, all_mean_binomial_dist, c = 'k', s = 7, zorder = 10)\n",
    "plt.axhline(y = 100, color = 'r', linestyle = '--', label = r'$\\mu_{exp}$')\n",
    "plt.xlabel('Sample Size')\n",
    "plt.ylabel('Sample Mean')\n",
    "plt.title('Binomial Distribution')\n",
    "plt.xlim(-500, 20000)\n",
    "plt.legend(loc = 'upper right')\n",
    "plt.show()"
   ]
  },
  {
   "cell_type": "markdown",
   "metadata": {},
   "source": [
    "## Figure 7.\n",
    "The above plot shows the sample mean with respect to the sample size for a binomial distribution. As the sample size increases, the sample mean converges to the expected mean (100). This makes sense in terms of the Central Limit Theorem; as our sample increases, the mean of the sample should converge to some 'true' mean of the population."
   ]
  },
  {
   "cell_type": "code",
   "execution_count": null,
   "metadata": {},
   "outputs": [],
   "source": [
    "mu_binomial, std_binomial = norm.fit(all_mean_binomial_dist) \n",
    "\n",
    "x_binomial = np.linspace(90, 110, 1000)\n",
    "p_binomial = norm.pdf(x_binomial, mu_binomial, std_binomial)"
   ]
  },
  {
   "cell_type": "code",
   "execution_count": null,
   "metadata": {},
   "outputs": [],
   "source": [
    "plt.hist(all_mean_binomial_dist, bins = 30, color = 'orange', density=True)\n",
    "plt.plot(x_binomial, p_binomial, 'b', linewidth=2, linestyle = ':', zorder = 10, label = 'Gaussian Fit')\n",
    "plt.xlabel('Sample Mean')\n",
    "plt.ylabel('Counts')\n",
    "plt.title('Binomial Distribution')\n",
    "plt.legend(loc = 'upper right')\n",
    "plt.xlim(95,105)\n",
    "plt.show()"
   ]
  },
  {
   "cell_type": "markdown",
   "metadata": {},
   "source": [
    "## Figure 8.\n",
    "The above plot shows the histogram of the sample mean for a binomial distribution in 30 bins. A gaussian fit has been applied to the data and is shown as a blue dotted line. This is a bad fit for the data as there is not enough strength at the mean."
   ]
  },
  {
   "cell_type": "markdown",
   "metadata": {},
   "source": [
    "# Gumbel Distribution"
   ]
  },
  {
   "cell_type": "code",
   "execution_count": null,
   "metadata": {},
   "outputs": [],
   "source": [
    "all_mean_gumbel_dist = np.zeros(len(mysize))\n",
    "all_STD_gumbel_dist = np.zeros(len(mysize))\n",
    "\n",
    "\n",
    "for i in range(len(mysize)):\n",
    "    gumbel_dist = np.random.gumbel(100 - 0.5772156649, 1, size=mysize[i])\n",
    "    all_mean_gumbel_dist[i] = np.mean(gumbel_dist)\n",
    "    all_STD_gumbel_dist[i] = np.std(gumbel_dist)"
   ]
  },
  {
   "cell_type": "code",
   "execution_count": null,
   "metadata": {},
   "outputs": [],
   "source": [
    "plt.scatter(mysize, all_mean_gumbel_dist, c = 'k', s = 7, zorder = 10)\n",
    "plt.axhline(y = 100, color = 'r', linestyle = '--', label = r'$\\mu_{exp}$')\n",
    "plt.xlabel('Sample Size')\n",
    "plt.ylabel('Sample Mean')\n",
    "plt.title('Gumbel Distribution')\n",
    "plt.xlim(-500, 20000)\n",
    "plt.legend(loc = 'upper right')\n",
    "plt.show()"
   ]
  },
  {
   "cell_type": "markdown",
   "metadata": {},
   "source": [
    "## Figure 9.\n",
    "The above plot shows the sample mean with respect to the sample size for a Gumbel distribution. As the sample size increases, the sample mean converges to the expected mean (100). This makes sense in terms of the Central Limit Theorem; as our sample increases, the mean of the sample should converge to some 'true' mean of the population."
   ]
  },
  {
   "cell_type": "code",
   "execution_count": null,
   "metadata": {},
   "outputs": [],
   "source": [
    "mu_gumbel, std_gumbel = norm.fit(all_mean_gumbel_dist) \n",
    "\n",
    "x_gumbel = np.linspace(90, 110, 1000)\n",
    "p_gumbel = norm.pdf(x_gumbel, mu_gumbel, std_gumbel)"
   ]
  },
  {
   "cell_type": "code",
   "execution_count": null,
   "metadata": {},
   "outputs": [],
   "source": [
    "plt.hist(all_mean_gumbel_dist, bins = 30, color = 'orange', density=True)\n",
    "plt.plot(x_gumbel, p_gumbel, 'b', linewidth=2, linestyle = ':', zorder = 10, label = 'Gaussian Fit')\n",
    "plt.xlabel('Sample Mean')\n",
    "plt.ylabel('Counts')\n",
    "plt.title('Gumbel Distribution')\n",
    "plt.legend(loc = 'upper right')\n",
    "plt.xlim(99,101)\n",
    "plt.show()"
   ]
  },
  {
   "cell_type": "markdown",
   "metadata": {},
   "source": [
    "## Figure 10.\n",
    "The above plot shows the histogram of the sample mean for a Gumbel distribution in 30 bins. A gaussian fit has been applied to the data and is shown as a blue dotted line. This is a bad fit for the data as there is not enough strength at the mean."
   ]
  }
 ],
 "metadata": {
  "interpreter": {
   "hash": "294a0b9bfc79ce88e29f56e11670a78bb3a231581d3d3954ad0b1fa1a01a617d"
  },
  "kernelspec": {
   "display_name": "Python 3.9.7 64-bit ('base': conda)",
   "name": "python3"
  },
  "language_info": {
   "codemirror_mode": {
    "name": "ipython",
    "version": 3
   },
   "file_extension": ".py",
   "mimetype": "text/x-python",
   "name": "python",
   "nbconvert_exporter": "python",
   "pygments_lexer": "ipython3",
   "version": "3.9.7"
  },
  "orig_nbformat": 4
 },
 "nbformat": 4,
 "nbformat_minor": 2
}
