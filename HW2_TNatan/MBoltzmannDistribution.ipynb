{
 "cells": [
  {
   "cell_type": "markdown",
   "metadata": {},
   "source": [
    "<a href=\"https://colab.research.google.com/github/TaliNatan/DSPS_TNatan/blob/main/HW2_TNatan/MBoltzmannDistribution.ipynb\" target=\"_parent\"><img src=\"https://colab.research.google.com/assets/colab-badge.svg\" alt=\"Open In Colab\"/></a>"
   ]
  },
  {
   "cell_type": "code",
   "execution_count": null,
   "metadata": {},
   "outputs": [],
   "source": [
    "from __future__ import print_function, division\n",
    "import numpy as np\n",
    "import scipy as sp\n",
    "from scipy import stats\n",
    "import pylab as plt\n",
    "%pylab inline"
   ]
  },
  {
   "cell_type": "markdown",
   "metadata": {},
   "source": [
    "# 1) label the axes in the plot"
   ]
  },
  {
   "cell_type": "code",
   "execution_count": null,
   "metadata": {},
   "outputs": [],
   "source": [
    "np.random.randn(123)\n",
    "fig, ax = plt.subplots()\n",
    "for a in [0.2, 0.6, 1.0]:\n",
    "    ax.hist(sp.stats.chi.rvs(df=3, scale=a, size=1000), # could as well be sp.stats.maxwell.rvs(scale=a, size=1000)\n",
    "          bins=np.arange(0,5,0.1)-0.05, alpha=0.7,\n",
    "       label=\"a = %.1f\"%a);\n",
    "plt.xlabel('Support')\n",
    "plt.ylabel('Counts')\n",
    "plt.legend();\n",
    "plt.title('Three Chi-Squared Distributions')\n",
    "plt.show()"
   ]
  },
  {
   "cell_type": "markdown",
   "metadata": {},
   "source": [
    "## Figure 1.\n",
    "The above figure shows the histogram of three specific Chi-Squared distributions, the Maxwell-Boltzmann Distribution, with three different a values (0.2 (blue), 0.6 (orange), and 1.0 (green))."
   ]
  },
  {
   "cell_type": "markdown",
   "metadata": {},
   "source": [
    "# 2) knowing that the scale parameter a is a function of the temperature T, and that the dependency is to a power 1/2, which is correct:\n",
    "\n",
    "From [wikipedia](https://en.wikipedia.org/wiki/Maxwell%E2%80%93Boltzmann_distribution), we have the distribution parameter a $\\alpha$ $\\sqrt{T}$."
   ]
  },
  {
   "cell_type": "markdown",
   "metadata": {},
   "source": [
    "# 3) What is the mean of all three distributions. How does it compare to the most probable molecular speed?\n",
    "\n",
    "From [wikipedia](https://en.wikipedia.org/wiki/Maxwell%E2%80%93Boltzmann_distribution), the mean $\\mu = 2 a \\sqrt{2 / \\pi}$. For our three distributions, the mean would be $\\mu = 0.318$, $0.957$, and $1.596$ for $a = 0.2$, $0.6$, and $1.0$ respectively from this equation. By inspection of the above plot, these values make sense.\n",
    "\n",
    "The mean of a [chi distribution] (https://en.wikipedia.org/wiki/Chi_distribution) is $\\mu = \\sqrt{2} \\frac{\\Gamma(\\frac{1}{2}(k+1))}{\\Gamma(\\frac{k}{2})}$ where k is the number of the degrees of freedom."
   ]
  },
  {
   "cell_type": "code",
   "execution_count": null,
   "metadata": {},
   "outputs": [],
   "source": [
    "def mean(k): # this function takes in the number of degrees of freedom k and outputs the mean of the Maxwell-Boltzmann distribution\n",
    "  return np.sqrt(2)*sp.special.gamma((1/2)*(k+1))/sp.special.gamma(k/2)\n",
    "\n",
    "a0_2, a0_6, a1_0  = mean(3)*0.2, mean(3)*0.6, mean(3)*1.0 # to get the actual mean, you must multiply the value by a\n",
    "\n",
    "print(a0_2, a0_6, a1_0)"
   ]
  },
  {
   "cell_type": "markdown",
   "metadata": {},
   "source": [
    "These values are similar to those calculated from the specific Maxwell–Boltzmann distribution $\\mu$ value. To check against the actual mean of the distribution of the above plots, we can just use `np.mean` to find those means."
   ]
  },
  {
   "cell_type": "code",
   "execution_count": null,
   "metadata": {},
   "outputs": [],
   "source": [
    "a0_2_from_dist = np.mean(sp.stats.chi.rvs(df=3, scale=0.2, size=1000))\n",
    "a0_6_from_dist = np.mean(sp.stats.chi.rvs(df=3, scale=0.6, size=1000))\n",
    "a1_0_from_dist = np.mean(sp.stats.chi.rvs(df=3, scale=1.0, size=1000))\n",
    "\n",
    "print(a0_2_from_dist, a0_6_from_dist, a1_0_from_dist)"
   ]
  },
  {
   "cell_type": "code",
   "execution_count": null,
   "metadata": {},
   "outputs": [],
   "source": []
  }
 ],
 "metadata": {
  "interpreter": {
   "hash": "294a0b9bfc79ce88e29f56e11670a78bb3a231581d3d3954ad0b1fa1a01a617d"
  },
  "kernelspec": {
   "display_name": "Python 3.9.7 64-bit ('base': conda)",
   "name": "python3"
  },
  "language_info": {
   "codemirror_mode": {
    "name": "ipython",
    "version": 3
   },
   "file_extension": ".py",
   "mimetype": "text/x-python",
   "name": "python",
   "nbconvert_exporter": "python",
   "pygments_lexer": "ipython3",
   "version": "3.9.7"
  },
  "orig_nbformat": 4
 },
 "nbformat": 4,
 "nbformat_minor": 2
}
