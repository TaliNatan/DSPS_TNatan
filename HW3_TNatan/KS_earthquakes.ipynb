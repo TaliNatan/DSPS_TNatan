{
 "cells": [
  {
   "cell_type": "markdown",
   "metadata": {},
   "source": [
    "<a href=\"https://colab.research.google.com/github/TaliNatan/DSPS_TNatan/blob/main/HW3_TNatan/KS_earthquake.ipynb\" target=\"_parent\"><img src=\"https://colab.research.google.com/assets/colab-badge.svg\" alt=\"Open In Colab\"/></a>"
   ]
  },
  {
   "cell_type": "markdown",
   "metadata": {},
   "source": [
    "Q1. What is the test's Null Hypothsis that the K-S test tests? <br>\n",
    "A1. This data is all from the same distribution.\n",
    "\n",
    "Q2. What is the \"statistic\" or \"pivotal quantity\" that the test uses? <br>\n",
    "A2.The KS statistic (d_kl) is the “maximum difference, in absolute value, between the rescaled cumulative distributions of the two data sets” (Corral). The d_kl value can be used to compare the theoretical culumative distribution function.\n",
    "\n",
    "Q3. What does the probability distribution of this statistic depend on?<br>\n",
    "A3. The statistics we care about in this project are the inter-event-timing of the earthquakes. These are ultimatley what we are doing the KS test on (grouped by earthquake magnitudes).\n",
    "    \n",
    "Q4. Did the author comply to reproducibility standards? <br>\n",
    "A4. Not quite, the link to the data used for the paper is dead but they did describe their method relativley well."
   ]
  },
  {
   "cell_type": "markdown",
   "metadata": {},
   "source": [
    "# Load Packages"
   ]
  },
  {
   "cell_type": "code",
   "execution_count": 1,
   "metadata": {},
   "outputs": [],
   "source": [
    "import numpy as np\n",
    "import pandas as pd\n",
    "import matplotlib.pyplot as plt\n",
    "import scipy as sp\n",
    "from scipy import stats"
   ]
  },
  {
   "cell_type": "markdown",
   "metadata": {},
   "source": [
    "# Data Ingestion"
   ]
  },
  {
   "cell_type": "code",
   "execution_count": 2,
   "metadata": {},
   "outputs": [
    {
     "name": "stderr",
     "output_type": "stream",
     "text": [
      "/Users/tali/opt/anaconda3/lib/python3.9/site-packages/pandas/util/_decorators.py:311: ParserWarning: Falling back to the 'python' engine because the 'c' engine does not support skipfooter; you can avoid this warning by specifying engine='python'.\n",
      "  return func(*args, **kwargs)\n"
     ]
    }
   ],
   "source": [
    "eqdata = pd.read_csv('earthquakes.csv', delimiter = ' ', skipinitialspace=True, header=0, skipfooter=2)\n",
    "eqdata.rename({\"#YYY/MM/DD\": \"date\", \"HH:mm:SS.ss\": \"time\", \"MAG\":\"mag\"},axis=1,inplace=True)\n",
    "eqdata[\"datetime\"] = [eqdata.iloc[i][\"date\"]+\" \"+eqdata.iloc[i][\"time\"] for i in range(len(eqdata))]"
   ]
  },
  {
   "cell_type": "code",
   "execution_count": 3,
   "metadata": {},
   "outputs": [],
   "source": [
    "newdtcol = [] ### FROM SID\n",
    "\n",
    "for dt in eqdata[\"datetime\"]:\n",
    "  mins = int(dt[14:16])\n",
    "  secs = int(dt[17:19])\n",
    "\n",
    "  if secs==60:\n",
    "    newsecs = secs - 60\n",
    "    newmins = mins + 1\n",
    "\n",
    "    newdt = dt[:14] + str(newmins) + dt[16] + str(newsecs) + dt[19:]\n",
    "\n",
    "  else:\n",
    "    newdt = dt\n",
    "\n",
    "  newdtcol.append(newdt)\n",
    "\n",
    "eqdata[\"datetime\"] = newdtcol\n",
    "eqdata[\"datetime\"] = pd.to_datetime(eqdata[\"datetime\"])"
   ]
  },
  {
   "cell_type": "code",
   "execution_count": 4,
   "metadata": {},
   "outputs": [
    {
     "name": "stdout",
     "output_type": "stream",
     "text": [
      "the 11 timestamp pairs that are the boundaries of good data periods are:\n"
     ]
    }
   ],
   "source": [
    "### FROM FED\n",
    "#this are snippits of code. This is not intended as a script that should run on its own.\n",
    "\n",
    "# first I create the timetamps pairs for the beginning and end of the valid periods. \n",
    "# I do it with a for loop that appends pairs of timestamps to a list that I create at the beginning\n",
    "\n",
    "############\n",
    "# create empty container\n",
    "ss = []\n",
    "\n",
    "# loop through all year pairs as year and fraction of year\n",
    "for t in [(1984, 1986.5), \n",
    "          (1990.3, 1992.1), \n",
    "          (1994.6, 1995.6),\n",
    "          (1996.1,1996.5), \n",
    "          (1997,1997.6), \n",
    "          (1997.75,1998.15), \n",
    "          (1998.25,1999.35), \n",
    "          (2000.55,2000.8),\n",
    "          (2000.9 ,2001.25), \n",
    "          (2001.6 ,2002), \n",
    "          (2002.5 ,2003)]:\n",
    "    \n",
    "    # for each pair I convert the year to datetime (easy)\n",
    "    # then I convert the fraction of year and convert it to days and convert that to a delta-time\n",
    "    # finally I add that deltatime to the year datetime. \n",
    "    ss.append((pd.to_datetime(int(t[0]), format=\"%Y\") \n",
    "        + pd.Timedelta('%.f days'%((t[0] - int(t[0])) * 365.25)),\n",
    "               pd.to_datetime(int(t[1]), format=\"%Y\") \n",
    "        + pd.Timedelta('%.f days'%((t[1] - int(t[1])) * 365.25))))\n",
    "\n",
    "\n",
    "############\n",
    "\n",
    "print (\"the {} timestamp pairs that are the boundaries of good data periods are:\".format(len(ss)))\n",
    "\n",
    "\n",
    "############\n",
    "\n",
    "# data between start and end of first time period\n",
    "gooddates = (((eqdata.datetime >= ss[0][0]) * (eqdata.datetime <= ss[0][1])) +\\\n",
    "        # data between start and end of second time period\n",
    "        ((eqdata.datetime >=ss [1][0]) * (eqdata.datetime <= ss[1][1])) +\\\n",
    "        ((eqdata.datetime >=ss [2][0]) * (eqdata.datetime <= ss[2][1])) +\\\n",
    "        ((eqdata.datetime >=ss [3][0]) * (eqdata.datetime <= ss[3][1])) +\\\n",
    "        ((eqdata.datetime >=ss [4][0]) * (eqdata.datetime <= ss[4][1])) +\\\n",
    "        ((eqdata.datetime >=ss [5][0]) * (eqdata.datetime <= ss[5][1])) +\\\n",
    "        ((eqdata.datetime >=ss [6][0]) * (eqdata.datetime <= ss[6][1])) +\\\n",
    "        ((eqdata.datetime >=ss [7][0]) * (eqdata.datetime <= ss[7][1])) +\\\n",
    "        ((eqdata.datetime >=ss [8][0]) * (eqdata.datetime <= ss[8][1])) +\\\n",
    "        ((eqdata.datetime >=ss [9][0]) * (eqdata.datetime <= ss[9][1])) +\\\n",
    "        # data between start and end of last time period\n",
    "        ((eqdata.datetime >=ss [10][0]) * (eqdata.datetime <= ss[10][1])\\\n",
    "        ).values)"
   ]
  },
  {
   "cell_type": "code",
   "execution_count": 5,
   "metadata": {},
   "outputs": [
    {
     "name": "stderr",
     "output_type": "stream",
     "text": [
      "/var/folders/q8/r398fm3j5k3fg08l9dj3529h0000gn/T/ipykernel_76835/2302533918.py:2: SettingWithCopyWarning: \n",
      "A value is trying to be set on a copy of a slice from a DataFrame.\n",
      "Try using .loc[row_indexer,col_indexer] = value instead\n",
      "\n",
      "See the caveats in the documentation: https://pandas.pydata.org/pandas-docs/stable/user_guide/indexing.html#returning-a-view-versus-a-copy\n",
      "  good_eqdata['time_diff'] = good_eqdata['datetime'].diff()\n"
     ]
    }
   ],
   "source": [
    "good_eqdata = eqdata[gooddates]\n",
    "good_eqdata['time_diff'] = good_eqdata['datetime'].diff()\n",
    "good_eqdata = good_eqdata[['date','time','mag','datetime', 'time_diff']]"
   ]
  },
  {
   "cell_type": "code",
   "execution_count": 6,
   "metadata": {},
   "outputs": [],
   "source": [
    "good_eqdata = good_eqdata.tail(-1)"
   ]
  },
  {
   "cell_type": "markdown",
   "metadata": {},
   "source": [
    "# Data Exploration"
   ]
  },
  {
   "cell_type": "code",
   "execution_count": 7,
   "metadata": {},
   "outputs": [
    {
     "data": {
      "image/png": "[encoded data removed]",
      "text/plain": [
       "<Figure size 432x288 with 1 Axes>"
      ]
     },
     "metadata": {
      "needs_background": "light"
     },
     "output_type": "display_data"
    }
   ],
   "source": [
    "(good_eqdata[\"time_diff\"]/pd.Timedelta(minutes=1)).plot(kind=\"hist\", logy=True, title=\"Earthquake Time Differences\")\n",
    "plt.xlabel('Time Difference (m)')\n",
    "plt.show()"
   ]
  },
  {
   "cell_type": "code",
   "execution_count": 8,
   "metadata": {},
   "outputs": [
    {
     "data": {
      "image/png": "[encoded data removed]",
      "text/plain": [
       "<Figure size 432x288 with 1 Axes>"
      ]
     },
     "metadata": {
      "needs_background": "light"
     },
     "output_type": "display_data"
    }
   ],
   "source": [
    "# FROM SHAR\n",
    "\n",
    "month = (365.25/12)*24*60*60*10**9\n",
    "map2 = good_eqdata[\"time_diff\"] < np.timedelta64(int(month))\n",
    "(good_eqdata[\"time_diff\"][map2]/pd.Timedelta(minutes=1)).plot(kind=\"hist\", logy=True,title=\"Earthquake Time Differences\", xlabel=\"time differences (minutes)\") \n",
    "#putting it in minutes bc it needs to be a diferent object type (not a timedelta)\n",
    "plt.xlabel('Time Difference (m)')\n",
    "plt.show()"
   ]
  },
  {
   "cell_type": "markdown",
   "metadata": {},
   "source": [
    "# Data Analysis\n",
    "$\\alpha$ = 0.003"
   ]
  },
  {
   "cell_type": "code",
   "execution_count": 9,
   "metadata": {},
   "outputs": [],
   "source": [
    "good_eqdata = good_eqdata[map2]"
   ]
  },
  {
   "cell_type": "markdown",
   "metadata": {},
   "source": [
    "## For m = 0.01"
   ]
  },
  {
   "cell_type": "code",
   "execution_count": 10,
   "metadata": {},
   "outputs": [],
   "source": [
    "m1 = good_eqdata[(good_eqdata[['mag']] >= 2).any(axis=1)]\n",
    "m2 = good_eqdata[(good_eqdata[['mag']] >= 2.5).any(axis=1)]\n",
    "m3 = good_eqdata[(good_eqdata[['mag']] >= 3).any(axis=1)]\n",
    "m4 = good_eqdata[(good_eqdata[['mag']] >= 3.5).any(axis=1)]\n",
    "m5 = good_eqdata[(good_eqdata[['mag']] >= 4).any(axis=1)]"
   ]
  },
  {
   "cell_type": "code",
   "execution_count": 11,
   "metadata": {},
   "outputs": [
    {
     "name": "stderr",
     "output_type": "stream",
     "text": [
      "/var/folders/q8/r398fm3j5k3fg08l9dj3529h0000gn/T/ipykernel_76835/2639983251.py:8: SettingWithCopyWarning: \n",
      "A value is trying to be set on a copy of a slice from a DataFrame.\n",
      "Try using .loc[row_indexer,col_indexer] = value instead\n",
      "\n",
      "See the caveats in the documentation: https://pandas.pydata.org/pandas-docs/stable/user_guide/indexing.html#returning-a-view-versus-a-copy\n",
      "  m2[\"time_diff_norm\"] = m2[\"time_diff\"] / m2[\"time_diff\"].mean()\n",
      "/var/folders/q8/r398fm3j5k3fg08l9dj3529h0000gn/T/ipykernel_76835/2639983251.py:13: SettingWithCopyWarning: \n",
      "A value is trying to be set on a copy of a slice from a DataFrame.\n",
      "Try using .loc[row_indexer,col_indexer] = value instead\n",
      "\n",
      "See the caveats in the documentation: https://pandas.pydata.org/pandas-docs/stable/user_guide/indexing.html#returning-a-view-versus-a-copy\n",
      "  m3[\"time_diff_norm\"] = m3[\"time_diff\"] / m3[\"time_diff\"].mean()\n",
      "/var/folders/q8/r398fm3j5k3fg08l9dj3529h0000gn/T/ipykernel_76835/2639983251.py:18: SettingWithCopyWarning: \n",
      "A value is trying to be set on a copy of a slice from a DataFrame.\n",
      "Try using .loc[row_indexer,col_indexer] = value instead\n",
      "\n",
      "See the caveats in the documentation: https://pandas.pydata.org/pandas-docs/stable/user_guide/indexing.html#returning-a-view-versus-a-copy\n",
      "  m4[\"time_diff_norm\"] = m4[\"time_diff\"] / m4[\"time_diff\"].mean()\n",
      "/var/folders/q8/r398fm3j5k3fg08l9dj3529h0000gn/T/ipykernel_76835/2639983251.py:23: SettingWithCopyWarning: \n",
      "A value is trying to be set on a copy of a slice from a DataFrame.\n",
      "Try using .loc[row_indexer,col_indexer] = value instead\n",
      "\n",
      "See the caveats in the documentation: https://pandas.pydata.org/pandas-docs/stable/user_guide/indexing.html#returning-a-view-versus-a-copy\n",
      "  m5[\"time_diff_norm\"] = m5[\"time_diff\"] / m5[\"time_diff\"].mean()\n"
     ]
    }
   ],
   "source": [
    "m = 0.01\n",
    "\n",
    "m1[\"time_diff_norm\"] = m1[\"time_diff\"] / m1[\"time_diff\"].mean()\n",
    "m1 = m1[(m1[[\"time_diff_norm\"]] >= m).any(axis=1)]\n",
    "m1[\"time_diff_norm\"] = m1[\"time_diff_norm\"] / m1[\"time_diff_norm\"].mean()\n",
    "m1 = m1[(m1[[\"time_diff_norm\"]] >= m).any(axis=1)]\n",
    "\n",
    "m2[\"time_diff_norm\"] = m2[\"time_diff\"] / m2[\"time_diff\"].mean()\n",
    "m2 = m2[(m2[[\"time_diff_norm\"]] >= m).any(axis=1)]\n",
    "m2[\"time_diff_norm\"] = m2[\"time_diff_norm\"] / m2[\"time_diff_norm\"].mean()\n",
    "m2 = m2[(m2[[\"time_diff_norm\"]] >= m).any(axis=1)]\n",
    "\n",
    "m3[\"time_diff_norm\"] = m3[\"time_diff\"] / m3[\"time_diff\"].mean()\n",
    "m3 = m3[(m3[[\"time_diff_norm\"]] >= m).any(axis=1)]\n",
    "m3[\"time_diff_norm\"] = m3[\"time_diff_norm\"] / m3[\"time_diff_norm\"].mean()\n",
    "m3 = m3[(m3[[\"time_diff_norm\"]] >= m).any(axis=1)]\n",
    "\n",
    "m4[\"time_diff_norm\"] = m4[\"time_diff\"] / m4[\"time_diff\"].mean()\n",
    "m4 = m4[(m4[[\"time_diff_norm\"]] >= m).any(axis=1)]\n",
    "m4[\"time_diff_norm\"] = m4[\"time_diff_norm\"] / m4[\"time_diff_norm\"].mean()\n",
    "m4 = m4[(m4[[\"time_diff_norm\"]] >= m).any(axis=1)]\n",
    "\n",
    "m5[\"time_diff_norm\"] = m5[\"time_diff\"] / m5[\"time_diff\"].mean()\n",
    "m5 = m5[(m5[[\"time_diff_norm\"]] >= m).any(axis=1)]\n",
    "m5[\"time_diff_norm\"] = m5[\"time_diff_norm\"] / m5[\"time_diff_norm\"].mean()\n",
    "m5 = m5[(m5[[\"time_diff_norm\"]] >= m).any(axis=1)]\n"
   ]
  },
  {
   "cell_type": "code",
   "execution_count": 12,
   "metadata": {},
   "outputs": [
    {
     "data": {
      "text/plain": [
       "(17949, 5389, 1350, 390, 109)"
      ]
     },
     "execution_count": 12,
     "metadata": {},
     "output_type": "execute_result"
    }
   ],
   "source": [
    "m1.shape[0],m2.shape[0],m3.shape[0],m4.shape[0],m5.shape[0]"
   ]
  },
  {
   "cell_type": "code",
   "execution_count": 13,
   "metadata": {},
   "outputs": [
    {
     "data": {
      "text/plain": [
       "array([['x', '0.34633073747555965', '0.3616348392641998',\n",
       "        '0.0941819605057247', '0.13173960486223132'],\n",
       "       ['0.014481723494396775', 'x', '0.6912160353648216',\n",
       "        '0.2279603907624933', '0.15147780568900537'],\n",
       "       ['0.025914907051460656', '0.021487392012535824', 'x',\n",
       "        '0.35065062280625137', '0.15913589169362063'],\n",
       "       ['0.06279672747999676', '0.05413924851668404',\n",
       "        '0.05293447293447293', 'x', '0.7498322379855523'],\n",
       "       ['0.11063967684177545', '0.10827696922545246',\n",
       "        '0.11023445463812437', '0.07108915549282521', 'x']], dtype='<U32')"
      ]
     },
     "execution_count": 13,
     "metadata": {},
     "output_type": "execute_result"
    }
   ],
   "source": [
    "d12, p12 = sp.stats.kstest(m1[\"time_diff_norm\"], m2[\"time_diff_norm\"])\n",
    "d13, p13 = sp.stats.kstest(m1[\"time_diff_norm\"], m3[\"time_diff_norm\"])\n",
    "d14, p14 = sp.stats.kstest(m1[\"time_diff_norm\"], m4[\"time_diff_norm\"])\n",
    "d15, p15 = sp.stats.kstest(m1[\"time_diff_norm\"], m5[\"time_diff_norm\"])\n",
    "\n",
    "d21, p21 = sp.stats.kstest(m2[\"time_diff_norm\"], m1[\"time_diff_norm\"])\n",
    "d23, p23 = sp.stats.kstest(m2[\"time_diff_norm\"], m3[\"time_diff_norm\"])\n",
    "d24, p24 = sp.stats.kstest(m2[\"time_diff_norm\"], m4[\"time_diff_norm\"])\n",
    "d25, p25 = sp.stats.kstest(m2[\"time_diff_norm\"], m5[\"time_diff_norm\"])\n",
    "\n",
    "d31, p31 = sp.stats.kstest(m3[\"time_diff_norm\"], m1[\"time_diff_norm\"])\n",
    "d32, p32 = sp.stats.kstest(m3[\"time_diff_norm\"], m2[\"time_diff_norm\"])\n",
    "d34, p34 = sp.stats.kstest(m3[\"time_diff_norm\"], m4[\"time_diff_norm\"])\n",
    "d35, p35 = sp.stats.kstest(m3[\"time_diff_norm\"], m5[\"time_diff_norm\"])\n",
    "\n",
    "d41, p41 = sp.stats.kstest(m4[\"time_diff_norm\"], m1[\"time_diff_norm\"])\n",
    "d42, p42 = sp.stats.kstest(m4[\"time_diff_norm\"], m2[\"time_diff_norm\"])\n",
    "d43, p43 = sp.stats.kstest(m4[\"time_diff_norm\"], m3[\"time_diff_norm\"])\n",
    "d45, p45 = sp.stats.kstest(m4[\"time_diff_norm\"], m5[\"time_diff_norm\"])\n",
    "\n",
    "d51, p51 = sp.stats.kstest(m5[\"time_diff_norm\"], m1[\"time_diff_norm\"])\n",
    "d52, p52 = sp.stats.kstest(m5[\"time_diff_norm\"], m2[\"time_diff_norm\"])\n",
    "d53, p53 = sp.stats.kstest(m5[\"time_diff_norm\"], m3[\"time_diff_norm\"])\n",
    "d54, p54 = sp.stats.kstest(m5[\"time_diff_norm\"], m4[\"time_diff_norm\"])\n",
    "\n",
    "table = np.array([['x', p12, p13, p14, p15],\n",
    "                 [d21,'x', p23, p24, p25],\n",
    "                 [d31, d32,'x', p34, p35],\n",
    "                 [d41, d42, d43,'x', p45],\n",
    "                 [d51, d52, d53, d54, 'x']])\n",
    "\n",
    "table"
   ]
  },
  {
   "cell_type": "markdown",
   "metadata": {},
   "source": [
    "| m = 0.01 | N | M >= 2.0 | M >= 2.5 | M >= 3.0 | M >= 3.5 | M >= 4.0 |\n",
    "| --- | --- | --- | --- | --- | --- | --- |\n",
    "|M >= 2.0 | 17949 | - | 34.6% | 36.2% | 9.4% | 13.2% |\n",
    "|M >= 2.5 | 5389 | 0.014 | - | 69.1% | 22.8% | 15.1% |\n",
    "|M >= 3.0 | 1350 | 0.026 | 0.021 | - | 35.1% | 15.9% |\n",
    "|M >= 3.5 | 390 | 0.063 | 0.054 | 0.053 | - | 75.0% |\n",
    "|M >= 4.0 | 109 | 0.111 | 0.108 | 0.110 | 0.071 | - |\n",
    "\n",
    "P value (percentage) and d_kl statistics above and below the diagonal respectivley for rescaled data with lower cuttoff m = 0.01. Based on an $\\alpha$ = 0.003, the scaling hypothesis (all the magnitudes follow the same timing distribution) cannot be rejected."
   ]
  },
  {
   "cell_type": "code",
   "execution_count": 14,
   "metadata": {},
   "outputs": [
    {
     "data": {
      "image/png": "[encoded data removed]",
      "text/plain": [
       "<Figure size 432x288 with 1 Axes>"
      ]
     },
     "metadata": {
      "needs_background": "light"
     },
     "output_type": "display_data"
    }
   ],
   "source": [
    "plt.scatter(np.histogram(m1[\"time_diff_norm\"], bins = 1000)[1][:-1] / m1[\"time_diff_norm\"].mean(), np.cumsum(np.histogram(m1[\"time_diff_norm\"], bins = 1000)[0])/np.cumsum(np.histogram(m1[\"time_diff_norm\"], bins = 1000)[0])[-1], s = 5, label = r'$M_1 \\geq 2$')\n",
    "plt.scatter(np.histogram(m2[\"time_diff_norm\"], bins = 1000)[1][:-1] / m2[\"time_diff_norm\"].mean(), np.cumsum(np.histogram(m2[\"time_diff_norm\"], bins = 1000)[0])/np.cumsum(np.histogram(m2[\"time_diff_norm\"], bins = 1000)[0])[-1], s = 5, label = r'$M_1 \\geq 2$')\n",
    "plt.scatter(np.histogram(m3[\"time_diff_norm\"], bins = 1000)[1][:-1] / m3[\"time_diff_norm\"].mean(), np.cumsum(np.histogram(m3[\"time_diff_norm\"], bins = 1000)[0])/np.cumsum(np.histogram(m3[\"time_diff_norm\"], bins = 1000)[0])[-1], s = 5, label = r'$M_1 \\geq 2$')\n",
    "plt.scatter(np.histogram(m4[\"time_diff_norm\"], bins = 1000)[1][:-1] / m4[\"time_diff_norm\"].mean(), np.cumsum(np.histogram(m4[\"time_diff_norm\"], bins = 1000)[0])/np.cumsum(np.histogram(m4[\"time_diff_norm\"], bins = 1000)[0])[-1], s = 5, label = r'$M_1 \\geq 2$')\n",
    "plt.scatter(np.histogram(m5[\"time_diff_norm\"], bins = 1000)[1][:-1] / m5[\"time_diff_norm\"].mean(), np.cumsum(np.histogram(m5[\"time_diff_norm\"], bins = 1000)[0])/np.cumsum(np.histogram(m5[\"time_diff_norm\"], bins = 1000)[0])[-1], s = 5, label = r'$M_1 \\geq 2$')\n",
    "plt.legend(loc = 'upper left')\n",
    "plt.xlabel(\"x/Rs\")\n",
    "plt.ylabel(\"p(x > x/Rs)\")\n",
    "plt.xscale(\"log\")\n",
    "plt.title(\"Inter-event-time Cumulative Distributions (m=0.01)\")\n",
    "plt.grid()\n",
    "plt.show()"
   ]
  },
  {
   "cell_type": "markdown",
   "metadata": {},
   "source": [
    "The above plot shows the inter-event-timing cumulative distribution with cutoff m = 0.01 for 5 magnitude bins ($M_1 \\geq 2$, $M_2 \\geq 2.5$, $M_3 \\geq 3$, $M_4 \\geq 3.5$, $M_5 \\geq 4$). The data has been rescaled along the x-axis such that the time difference are divided by the mean time difference within that bin. As we can see, all of these distributions overlap with one another/are very similar shapes. The above table shows that they are statitically similar to one another."
   ]
  },
  {
   "cell_type": "markdown",
   "metadata": {},
   "source": [
    "## For m = 0.001"
   ]
  },
  {
   "cell_type": "code",
   "execution_count": 15,
   "metadata": {},
   "outputs": [],
   "source": [
    "m1_1 = good_eqdata[(good_eqdata[['mag']] >= 2).any(axis=1)]\n",
    "m2_1 = good_eqdata[(good_eqdata[['mag']] >= 2.5).any(axis=1)]\n",
    "m3_1 = good_eqdata[(good_eqdata[['mag']] >= 3).any(axis=1)]\n",
    "m4_1 = good_eqdata[(good_eqdata[['mag']] >= 3.5).any(axis=1)]\n",
    "m5_1 = good_eqdata[(good_eqdata[['mag']] >= 4).any(axis=1)]"
   ]
  },
  {
   "cell_type": "code",
   "execution_count": 16,
   "metadata": {},
   "outputs": [
    {
     "name": "stderr",
     "output_type": "stream",
     "text": [
      "/var/folders/q8/r398fm3j5k3fg08l9dj3529h0000gn/T/ipykernel_76835/2202321450.py:8: SettingWithCopyWarning: \n",
      "A value is trying to be set on a copy of a slice from a DataFrame.\n",
      "Try using .loc[row_indexer,col_indexer] = value instead\n",
      "\n",
      "See the caveats in the documentation: https://pandas.pydata.org/pandas-docs/stable/user_guide/indexing.html#returning-a-view-versus-a-copy\n",
      "  m2_1[\"time_diff_norm\"] = m2_1[\"time_diff\"] / m2_1[\"time_diff\"].mean()\n",
      "/var/folders/q8/r398fm3j5k3fg08l9dj3529h0000gn/T/ipykernel_76835/2202321450.py:13: SettingWithCopyWarning: \n",
      "A value is trying to be set on a copy of a slice from a DataFrame.\n",
      "Try using .loc[row_indexer,col_indexer] = value instead\n",
      "\n",
      "See the caveats in the documentation: https://pandas.pydata.org/pandas-docs/stable/user_guide/indexing.html#returning-a-view-versus-a-copy\n",
      "  m3_1[\"time_diff_norm\"] = m3_1[\"time_diff\"] / m3_1[\"time_diff\"].mean()\n",
      "/var/folders/q8/r398fm3j5k3fg08l9dj3529h0000gn/T/ipykernel_76835/2202321450.py:18: SettingWithCopyWarning: \n",
      "A value is trying to be set on a copy of a slice from a DataFrame.\n",
      "Try using .loc[row_indexer,col_indexer] = value instead\n",
      "\n",
      "See the caveats in the documentation: https://pandas.pydata.org/pandas-docs/stable/user_guide/indexing.html#returning-a-view-versus-a-copy\n",
      "  m4_1[\"time_diff_norm\"] = m4_1[\"time_diff\"] / m4_1[\"time_diff\"].mean()\n",
      "/var/folders/q8/r398fm3j5k3fg08l9dj3529h0000gn/T/ipykernel_76835/2202321450.py:23: SettingWithCopyWarning: \n",
      "A value is trying to be set on a copy of a slice from a DataFrame.\n",
      "Try using .loc[row_indexer,col_indexer] = value instead\n",
      "\n",
      "See the caveats in the documentation: https://pandas.pydata.org/pandas-docs/stable/user_guide/indexing.html#returning-a-view-versus-a-copy\n",
      "  m5_1[\"time_diff_norm\"] = m5_1[\"time_diff\"] / m5_1[\"time_diff\"].mean()\n"
     ]
    }
   ],
   "source": [
    "m_1 = 0.001\n",
    "\n",
    "m1_1[\"time_diff_norm\"] = m1_1[\"time_diff\"] / m1_1[\"time_diff\"].mean()\n",
    "m1_1 = m1_1[(m1_1[[\"time_diff_norm\"]] >= m_1).any(axis=1)]\n",
    "m1_1[\"time_diff_norm\"] = m1_1[\"time_diff_norm\"] / m1_1[\"time_diff_norm\"].mean()\n",
    "m1_1 = m1_1[(m1_1[[\"time_diff_norm\"]] >= m_1).any(axis=1)]\n",
    "\n",
    "m2_1[\"time_diff_norm\"] = m2_1[\"time_diff\"] / m2_1[\"time_diff\"].mean()\n",
    "m2_1 = m2_1[(m2_1[[\"time_diff_norm\"]] >= m_1).any(axis=1)]\n",
    "m2_1[\"time_diff_norm\"] = m2_1[\"time_diff_norm\"] / m2_1[\"time_diff_norm\"].mean()\n",
    "m2_1 = m2_1[(m2_1[[\"time_diff_norm\"]] >= m_1).any(axis=1)]\n",
    "\n",
    "m3_1[\"time_diff_norm\"] = m3_1[\"time_diff\"] / m3_1[\"time_diff\"].mean()\n",
    "m3_1 = m3_1[(m3_1[[\"time_diff_norm\"]] >= m_1).any(axis=1)]\n",
    "m3_1[\"time_diff_norm\"] = m3_1[\"time_diff_norm\"] / m3_1[\"time_diff_norm\"].mean()\n",
    "m3_1 = m3_1[(m3_1[[\"time_diff_norm\"]] >= m_1).any(axis=1)]\n",
    "\n",
    "m4_1[\"time_diff_norm\"] = m4_1[\"time_diff\"] / m4_1[\"time_diff\"].mean()\n",
    "m4_1 = m4_1[(m4_1[[\"time_diff_norm\"]] >= m_1).any(axis=1)]\n",
    "m4_1[\"time_diff_norm\"] = m4_1[\"time_diff_norm\"] / m4_1[\"time_diff_norm\"].mean()\n",
    "m4_1 = m4_1[(m4_1[[\"time_diff_norm\"]] >= m_1).any(axis=1)]\n",
    "\n",
    "m5_1[\"time_diff_norm\"] = m5_1[\"time_diff\"] / m5_1[\"time_diff\"].mean()\n",
    "m5_1 = m5_1[(m5_1[[\"time_diff_norm\"]] >= m_1).any(axis=1)]\n",
    "m5_1[\"time_diff_norm\"] = m5_1[\"time_diff_norm\"] / m5_1[\"time_diff_norm\"].mean()\n",
    "m5_1 = m5_1[(m5_1[[\"time_diff_norm\"]] >= m_1).any(axis=1)]"
   ]
  },
  {
   "cell_type": "code",
   "execution_count": 17,
   "metadata": {},
   "outputs": [
    {
     "data": {
      "text/plain": [
       "(18709, 5669, 1443, 422, 115)"
      ]
     },
     "execution_count": 17,
     "metadata": {},
     "output_type": "execute_result"
    }
   ],
   "source": [
    "m1_1.shape[0],m2_1.shape[0],m3_1.shape[0],m4_1.shape[0],m5_1.shape[0]"
   ]
  },
  {
   "cell_type": "code",
   "execution_count": 18,
   "metadata": {},
   "outputs": [
    {
     "data": {
      "text/plain": [
       "array([['x', '0.0669668534606861', '0.06814506112193086',\n",
       "        '0.035876140569564896', '0.10755630717788713'],\n",
       "       ['0.019718196796738002', 'x', '0.37599221164951235',\n",
       "        '0.14803517605710703', '0.13456270453170205'],\n",
       "       ['0.035383039659056564', '0.026729607608069417', 'x',\n",
       "        '0.3690110578604402', '0.16362853561241786'],\n",
       "       ['0.06934860911657947', '0.05711155456757839',\n",
       "        '0.0501768629730715', 'x', '0.743442522464792'],\n",
       "       ['0.11171884259377607', '0.10788192074363241',\n",
       "        '0.1067160806291241', '0.0694415825262724', 'x']], dtype='<U32')"
      ]
     },
     "execution_count": 18,
     "metadata": {},
     "output_type": "execute_result"
    }
   ],
   "source": [
    "d12_1, p12_1 = sp.stats.kstest(m1_1[\"time_diff_norm\"], m2_1[\"time_diff_norm\"])\n",
    "d13_1, p13_1 = sp.stats.kstest(m1_1[\"time_diff_norm\"], m3_1[\"time_diff_norm\"])\n",
    "d14_1, p14_1 = sp.stats.kstest(m1_1[\"time_diff_norm\"], m4_1[\"time_diff_norm\"])\n",
    "d15_1, p15_1 = sp.stats.kstest(m1_1[\"time_diff_norm\"], m5_1[\"time_diff_norm\"])\n",
    "\n",
    "d21_1, p21_1 = sp.stats.kstest(m2_1[\"time_diff_norm\"], m1_1[\"time_diff_norm\"])\n",
    "d23_1, p23_1 = sp.stats.kstest(m2_1[\"time_diff_norm\"], m3_1[\"time_diff_norm\"])\n",
    "d24_1, p24_1 = sp.stats.kstest(m2_1[\"time_diff_norm\"], m4_1[\"time_diff_norm\"])\n",
    "d25_1, p25_1 = sp.stats.kstest(m2_1[\"time_diff_norm\"], m5_1[\"time_diff_norm\"])\n",
    "\n",
    "d31_1, p31_1 = sp.stats.kstest(m3_1[\"time_diff_norm\"], m1_1[\"time_diff_norm\"])\n",
    "d32_1, p32_1 = sp.stats.kstest(m3_1[\"time_diff_norm\"], m2_1[\"time_diff_norm\"])\n",
    "d34_1, p34_1 = sp.stats.kstest(m3_1[\"time_diff_norm\"], m4_1[\"time_diff_norm\"])\n",
    "d35_1, p35_1 = sp.stats.kstest(m3_1[\"time_diff_norm\"], m5_1[\"time_diff_norm\"])\n",
    "\n",
    "d41_1, p41_1 = sp.stats.kstest(m4_1[\"time_diff_norm\"], m1_1[\"time_diff_norm\"])\n",
    "d42_1, p42_1 = sp.stats.kstest(m4_1[\"time_diff_norm\"], m2_1[\"time_diff_norm\"])\n",
    "d43_1, p43_1 = sp.stats.kstest(m4_1[\"time_diff_norm\"], m3_1[\"time_diff_norm\"])\n",
    "d45_1, p45_1 = sp.stats.kstest(m4_1[\"time_diff_norm\"], m5_1[\"time_diff_norm\"])\n",
    "\n",
    "d51_1, p51_1 = sp.stats.kstest(m5_1[\"time_diff_norm\"], m1_1[\"time_diff_norm\"])\n",
    "d52_1, p52_1 = sp.stats.kstest(m5_1[\"time_diff_norm\"], m2_1[\"time_diff_norm\"])\n",
    "d53_1, p53_1 = sp.stats.kstest(m5_1[\"time_diff_norm\"], m3_1[\"time_diff_norm\"])\n",
    "d54_1, p54_1 = sp.stats.kstest(m5_1[\"time_diff_norm\"], m4_1[\"time_diff_norm\"])\n",
    "\n",
    "table_1 = np.array([['x', p12_1, p13_1, p14_1, p15_1],\n",
    "                 [d21_1,'x', p23_1, p24_1, p25_1],\n",
    "                 [d31_1, d32_1,'x', p34_1, p35_1],\n",
    "                 [d41_1, d42_1, d43_1,'x', p45_1],\n",
    "                 [d51_1, d52_1, d53_1, d54_1, 'x']])\n",
    "\n",
    "table_1"
   ]
  },
  {
   "cell_type": "markdown",
   "metadata": {},
   "source": [
    "| m = 0.01 | N | M >= 2.0 | M >= 2.5 | M >= 3.0 | M >= 3.5 | M >= 4.0 |\n",
    "| --- | --- | --- | --- | --- | --- | --- |\n",
    "|M >= 2.0 | 18709 | - | 6.7% | 6.8% | 3.6% | 10.7% |\n",
    "|M >= 2.5 | 5669 | 0.020 | - | 37.6% | 14.8% | 13.4% |\n",
    "|M >= 3.0 | 1443 | 0.035 | 0.027 | - | 36.9% | 16.36% |\n",
    "|M >= 3.5 | 422 | 0.069 | 0.057 | 0.050 | - | 74.3% |\n",
    "|M >= 4.0 | 115 | 0.112 | 0.108 | 0.107 | 0.069 | - |\n",
    "\n",
    "P value (percentage) and d_kl statistics above and below the diagonal respectivley for rescaled data with lower cuttoff m = 0.001. Based on an $\\alpha$ = 0.003, the scaling hypothesis (all the magnitudes follow the same timing distribution) cannot be rejected."
   ]
  },
  {
   "cell_type": "code",
   "execution_count": 19,
   "metadata": {},
   "outputs": [
    {
     "data": {
      "image/png": "[encoded data removed]",
      "text/plain": [
       "<Figure size 432x288 with 1 Axes>"
      ]
     },
     "metadata": {
      "needs_background": "light"
     },
     "output_type": "display_data"
    }
   ],
   "source": [
    "plt.scatter(np.histogram(m1_1[\"time_diff_norm\"], bins = 1000)[1][:-1] / m1_1[\"time_diff_norm\"].mean(), np.cumsum(np.histogram(m1_1[\"time_diff_norm\"], bins = 1000)[0])/np.cumsum(np.histogram(m1_1[\"time_diff_norm\"], bins = 1000)[0])[-1], s = 5, label = r'$M_1 \\geq 2$')\n",
    "plt.scatter(np.histogram(m2_1[\"time_diff_norm\"], bins = 1000)[1][:-1] / m2_1[\"time_diff_norm\"].mean(), np.cumsum(np.histogram(m2_1[\"time_diff_norm\"], bins = 1000)[0])/np.cumsum(np.histogram(m2_1[\"time_diff_norm\"], bins = 1000)[0])[-1], s = 5, label = r'$M_1 \\geq 2$')\n",
    "plt.scatter(np.histogram(m3_1[\"time_diff_norm\"], bins = 1000)[1][:-1] / m3_1[\"time_diff_norm\"].mean(), np.cumsum(np.histogram(m3_1[\"time_diff_norm\"], bins = 1000)[0])/np.cumsum(np.histogram(m3_1[\"time_diff_norm\"], bins = 1000)[0])[-1], s = 5, label = r'$M_1 \\geq 2$')\n",
    "plt.scatter(np.histogram(m4_1[\"time_diff_norm\"], bins = 1000)[1][:-1] / m4_1[\"time_diff_norm\"].mean(), np.cumsum(np.histogram(m4_1[\"time_diff_norm\"], bins = 1000)[0])/np.cumsum(np.histogram(m4_1[\"time_diff_norm\"], bins = 1000)[0])[-1], s = 5, label = r'$M_1 \\geq 2$')\n",
    "plt.scatter(np.histogram(m5_1[\"time_diff_norm\"], bins = 1000)[1][:-1] / m5_1[\"time_diff_norm\"].mean(), np.cumsum(np.histogram(m5_1[\"time_diff_norm\"], bins = 1000)[0])/np.cumsum(np.histogram(m5_1[\"time_diff_norm\"], bins = 1000)[0])[-1], s = 5, label = r'$M_1 \\geq 2$')\n",
    "plt.legend(loc = 'upper left')\n",
    "plt.xlabel(\"x/Rs\")\n",
    "plt.ylabel(\"p(x > x/Rs)\")\n",
    "plt.xscale(\"log\")\n",
    "plt.title(\"Inter-event-time Cumulative Distributions (m=0.001)\")\n",
    "plt.grid()\n",
    "plt.show()"
   ]
  },
  {
   "cell_type": "markdown",
   "metadata": {},
   "source": [
    "The above plot shows the inter-event-timing cumulative distribution with cutoff m = 0.001 for 5 magnitude bins ($M_1 \\geq 2$, $M_2 \\geq 2.5$, $M_3 \\geq 3$, $M_4 \\geq 3.5$, $M_5 \\geq 4$). The data has been rescaled along the x-axis such that the time difference are divided by the mean time difference within that bin. As we can see, all of these distributions overlap with one another/are very similar shapes. The above table shows that they are statitically similar to one another."
   ]
  },
  {
   "cell_type": "markdown",
   "metadata": {},
   "source": [
    "# Conclusions"
   ]
  },
  {
   "cell_type": "markdown",
   "metadata": {},
   "source": [
    "Did you find any statistical significant differences between the distributions? What does it mean? Is your result identical to Correll's 2018? Why or why not? Discuss!\n",
    "\n",
    "For both m = 0.01, and 0.001, all of our results are greater than our chosen $\\alpha$ value of 0.003. My propbabilities are higher for m = 0.01 than 0.001 which may indicate aftershocks are still found in the 0.001 cutoff and these effect the similaries of the distributions. My results are not exactly identical to Correll (2018) possibly for a few reasons: \n",
    "\n",
    "1. we used different datasets and despite both sets being large, maybe they are not big enough\n",
    "2. their data was cleaned/normalized/thresholded differently than our method (which was supposed to follow theirs but maybe they left out steps)\n",
    "\n",
    "Nevertheless, our conclusions are the same to Correll (2018)."
   ]
  }
 ],
 "metadata": {
  "interpreter": {
   "hash": "294a0b9bfc79ce88e29f56e11670a78bb3a231581d3d3954ad0b1fa1a01a617d"
  },
  "kernelspec": {
   "display_name": "Python 3.9.7 64-bit ('base': conda)",
   "name": "python3"
  },
  "language_info": {
   "codemirror_mode": {
    "name": "ipython",
    "version": 3
   },
   "file_extension": ".py",
   "mimetype": "text/x-python",
   "name": "python",
   "nbconvert_exporter": "python",
   "pygments_lexer": "ipython3",
   "version": "3.9.7"
  },
  "orig_nbformat": 4
 },
 "nbformat": 4,
 "nbformat_minor": 2
}
